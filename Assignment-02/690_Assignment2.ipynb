{
  "nbformat": 4,
  "nbformat_minor": 0,
  "metadata": {
    "colab": {
      "name": "690_Assignment2.ipynb",
      "provenance": [],
      "collapsed_sections": []
    },
    "kernelspec": {
      "name": "python3",
      "display_name": "Python 3"
    }
  },
  "cells": [
    {
      "cell_type": "markdown",
      "metadata": {
        "id": "UX2vw0b7jeWM",
        "colab_type": "text"
      },
      "source": [
        "# Assignment 02"
      ]
    },
    {
      "cell_type": "markdown",
      "metadata": {
        "id": "fiAle2Yfl6UW",
        "colab_type": "text"
      },
      "source": [
        "\n",
        "#### Prompts a user to enter 10 integers. If the user enters anything other than integers, remind her that only integers are allowed and let her retry. Don't allow the user to enter more than 10 or less than 10 integers. Display the 10 integers back to the user at the end. Calculate the following statistics from the 10 integers entered:\n",
        "\n",
        "* Minimum\n",
        "* Maximum\n",
        "* Range\n",
        "* Mean\n",
        "* Variance\n",
        "* Standard Deviation\n"
      ]
    },
    {
      "cell_type": "markdown",
      "metadata": {
        "id": "QC-wEGFhNl6g",
        "colab_type": "text"
      },
      "source": [
        "#### User_Input Function\n",
        "* User_Input function reads the input from the user. According to the given statement user need to enter 10 integer values seperated by a space so that it will be easy to understand the values that are entered.\n",
        "* map function syntax map(function, iterator)\n",
        "* map here the integer function is applied to all the values that are entered"
      ]
    },
    {
      "cell_type": "code",
      "metadata": {
        "id": "i4GbrwVolN4C",
        "colab_type": "code",
        "colab": {}
      },
      "source": [
        "# Read input from the user\n",
        "def User_Input():\n",
        "  return list(map(int,input(\"Please enter 10 integers seperated by a spaces\\n\").split()))\n",
        "#User_Input()"
      ],
      "execution_count": 195,
      "outputs": []
    },
    {
      "cell_type": "markdown",
      "metadata": {
        "id": "_cxeE57-QC0v",
        "colab_type": "text"
      },
      "source": [
        "#### Min() Function:\n",
        "* Min() function calculates the minimum value of all the 10 elements and returns the value that is called in the main function to display the minimum value."
      ]
    },
    {
      "cell_type": "code",
      "metadata": {
        "id": "24aEYIqpisQ5",
        "colab_type": "code",
        "colab": {}
      },
      "source": [
        "def Min(numbers):\n",
        "  min = numbers[0] # first element is assigned to min\n",
        "  for i in numbers: \n",
        "      if i < min:  #checking if any element is less than the min\n",
        "          min = i   # changing the value to min\n",
        "  return min\n",
        "#Min()    "
      ],
      "execution_count": 196,
      "outputs": []
    },
    {
      "cell_type": "markdown",
      "metadata": {
        "id": "NERKQb_WQoJM",
        "colab_type": "text"
      },
      "source": [
        "#### Max() Function:\n",
        "* Max() function calculates the maximum value of all the 10 elements and returns the value. \n",
        "* This function is called in the main function to display the maximum value."
      ]
    },
    {
      "cell_type": "code",
      "metadata": {
        "id": "2Z0drsNRlMoc",
        "colab_type": "code",
        "colab": {}
      },
      "source": [
        "def Max(numbers):\n",
        "  max = numbers[0] # first element is assigned to max\n",
        "  for i in numbers: \n",
        "      if i > max:  #checking if any element is greater than the max\n",
        "          max = i  # changing the value to max\n",
        "  return max\n",
        "#Max()"
      ],
      "execution_count": 197,
      "outputs": []
    },
    {
      "cell_type": "markdown",
      "metadata": {
        "id": "JW6ZzrspRtsV",
        "colab_type": "text"
      },
      "source": [
        "#### Range() Function:\n",
        "* In general range is defined as the difference between the maximum and the minimum value so this function calculates the range by calling the two functions Min(),Max() and the difference is returned as range which is called to display the Range in the main function.  \n"
      ]
    },
    {
      "cell_type": "code",
      "metadata": {
        "id": "PuwdKth9lmUT",
        "colab_type": "code",
        "colab": {}
      },
      "source": [
        "def Range(numbers):\n",
        "  range = Max(numbers)-Min(numbers)\n",
        "  return range\n",
        "#Range()"
      ],
      "execution_count": 198,
      "outputs": []
    },
    {
      "cell_type": "markdown",
      "metadata": {
        "id": "e6YSp8tuSg_R",
        "colab_type": "text"
      },
      "source": [
        "#### Mean() Function:\n",
        "* This function returns mean of the elements and it is the sum of all the elements divided by the total number of elements. \n",
        "* The Mean() is called in the main function to display the Mean() of elements"
      ]
    },
    {
      "cell_type": "code",
      "metadata": {
        "id": "JNShFZI7mxtQ",
        "colab_type": "code",
        "colab": {}
      },
      "source": [
        "def Mean(numbers):\n",
        "  sum = 0\n",
        "  for i in numbers:\n",
        "    sum+=i\n",
        "\n",
        "  mean = sum/10\n",
        "  return mean\n",
        "#Mean()"
      ],
      "execution_count": 199,
      "outputs": []
    },
    {
      "cell_type": "markdown",
      "metadata": {
        "id": "UttMFWS2S7zi",
        "colab_type": "text"
      },
      "source": [
        "Varience() Function:\n",
        "This function returns the varience and it is calculated as:\n",
        "* summation of the elements after the subtraction of the individual element from the mean of elements and then squared the result\n",
        "* This function is called to display the Varience in the main function"
      ]
    },
    {
      "cell_type": "code",
      "metadata": {
        "id": "R4kLPxJkq8VF",
        "colab_type": "code",
        "colab": {}
      },
      "source": [
        "def Varience(numbers):\n",
        "  n=10\n",
        "  sum2=0\n",
        "  for i in numbers:\n",
        "      sum2 = sum2 + (i-mean())**2\n",
        "\n",
        "  var = sum2/n\n",
        "  return var\n",
        "#Varience()"
      ],
      "execution_count": 208,
      "outputs": []
    },
    {
      "cell_type": "markdown",
      "metadata": {
        "id": "zfINjkWOUSPN",
        "colab_type": "text"
      },
      "source": [
        "#### Standard_Deviation Function():\n",
        "* This function returns the standard deviation of elements and it is simply defined as the square root of the varience.\n",
        "* This function is called to display the Standard deviation in the main function\n"
      ]
    },
    {
      "cell_type": "code",
      "metadata": {
        "id": "WRXWGHcnr2pB",
        "colab_type": "code",
        "colab": {}
      },
      "source": [
        "import math\n",
        "def Standard_Deviation(numbers):\n",
        "  std = Varience(numbers)**0.5\n",
        "  return std\n",
        "#Standard_Deviation()"
      ],
      "execution_count": 209,
      "outputs": []
    },
    {
      "cell_type": "markdown",
      "metadata": {
        "id": "KIcRJpcxU6s8",
        "colab_type": "text"
      },
      "source": [
        "Main() Function:\n",
        "* This function takes input from User_Input and checks if the entered integers meets the requirements and displays the respective message.\n",
        "* It dispalys the entered values if the all the requirements are met.\n",
        "* This function takes the inputs from Min(), Max(), Range(), Mean(), Varience, Standard Deviation() and displays them upon calling."
      ]
    },
    {
      "cell_type": "code",
      "metadata": {
        "id": "g83_qBgQJgU0",
        "colab_type": "code",
        "colab": {
          "base_uri": "https://localhost:8080/",
          "height": 323
        },
        "outputId": "eeade8ce-626e-409c-daba-d36058e187e8"
      },
      "source": [
        "# Function block to check the count and if the number is an integer or not.\n",
        "def main():\n",
        "  n = 10\n",
        "  try:\n",
        "    list_of_numbers =  User_Input()\n",
        "    #print(list_of_numbers)\n",
        "  except:\n",
        "    print(\"Please enter integer values only\\n\")\n",
        "    list_of_numbers = User_Input()\n",
        "  if len(list_of_numbers)!=10:\n",
        "    print(\"Please enter 10 integers only\")\n",
        "  else: \n",
        "    print(\"Printing the elements that are entered\\n\")\n",
        "    for i in list_of_numbers:\n",
        "      print(i,end=\" \")\n",
        "    print(\"\\n\")\n",
        "    print(\"Minimum Value: \",str(Min(list_of_numbers))+\"\\n\")\n",
        "    print(\"Maximum Value: \",str(Max(list_of_numbers))+\"\\n\")\n",
        "    print(\"Range: \",str(Range(list_of_numbers))+\"\\n\")\n",
        "    print(\"Mean: \",str(Mean(list_of_numbers))+\"\\n\")\n",
        "    print(\"Varience: \",str(Varience(list_of_numbers))+\"\\n\")\n",
        "    print(\"Standard Deviation: \",str(Standard_Deviation(list_of_numbers))+\"\\n\")\n",
        "\n",
        "main()    "
      ],
      "execution_count": 210,
      "outputs": [
        {
          "output_type": "stream",
          "text": [
            "Please enter 10 integers seperated by a spaces\n",
            "1 2 3 4 5 6 7 8 9 10\n",
            "Printing the elements that are entered\n",
            "\n",
            "1 2 3 4 5 6 7 8 9 10 \n",
            "\n",
            "Minimum Value:  1\n",
            "\n",
            "Maximum Value:  10\n",
            "\n",
            "Range:  9\n",
            "\n",
            "Mean:  5.5\n",
            "\n",
            "Varience:  8.5\n",
            "\n",
            "Standard Deviation:  2.9154759474226504\n",
            "\n"
          ],
          "name": "stdout"
        }
      ]
    }
  ]
}