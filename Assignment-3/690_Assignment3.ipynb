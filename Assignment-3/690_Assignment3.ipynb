{
  "nbformat": 4,
  "nbformat_minor": 0,
  "metadata": {
    "colab": {
      "name": "690_Assignment3.ipynb",
      "provenance": [],
      "collapsed_sections": []
    },
    "kernelspec": {
      "name": "python3",
      "display_name": "Python 3"
    }
  },
  "cells": [
    {
      "cell_type": "markdown",
      "metadata": {
        "id": "uQNgJ7B_6Esm",
        "colab_type": "text"
      },
      "source": [
        "#### Write a program that generates 100 random integers between 0 and 9.\n",
        "\n"
      ]
    },
    {
      "cell_type": "markdown",
      "metadata": {
        "id": "BzKP1gEP6HqL",
        "colab_type": "text"
      },
      "source": [
        "1. Print them in a 10 by 10 matrix neatly arranged like the following (one space between each number):\n"
      ]
    },
    {
      "cell_type": "code",
      "metadata": {
        "id": "DQYtn7pHMCAg",
        "colab_type": "code",
        "colab": {
          "base_uri": "https://localhost:8080/",
          "height": 187
        },
        "outputId": "ee793e63-4593-4afc-fc81-7435126739db"
      },
      "source": [
        "import random\n",
        " \n",
        "for i in range(10):          # A for loop for row entries \n",
        "   \n",
        "    for j in range(10):      # A for loop for column entries\n",
        "         \n",
        "         random_numbers = random.randint(0, 9)\n",
        "         \n",
        "         print(\"\",random_numbers,end='')       \n",
        "    \n",
        "    print(\"\")"
      ],
      "execution_count": null,
      "outputs": [
        {
          "output_type": "stream",
          "text": [
            " 3 9 0 5 3 1 2 1 3 9\n",
            " 7 0 4 8 1 5 1 4 3 8\n",
            " 5 6 6 8 7 4 4 9 8 1\n",
            " 7 4 2 2 3 3 0 1 6 8\n",
            " 8 5 0 4 9 7 1 7 7 1\n",
            " 0 7 1 4 5 9 3 8 5 8\n",
            " 3 9 3 8 1 7 1 9 0 4\n",
            " 6 5 2 4 0 9 0 4 1 4\n",
            " 9 6 4 9 1 3 6 3 8 1\n",
            " 3 7 0 5 3 8 6 9 1 6\n"
          ],
          "name": "stdout"
        }
      ]
    },
    {
      "cell_type": "markdown",
      "metadata": {
        "id": "Urd5-rib6Ou8",
        "colab_type": "text"
      },
      "source": [
        "2. If the random number is an odd number, print \"@\" instead. like the following:"
      ]
    },
    {
      "cell_type": "code",
      "metadata": {
        "id": "OqTJG2PsNnMt",
        "colab_type": "code",
        "colab": {
          "base_uri": "https://localhost:8080/",
          "height": 187
        },
        "outputId": "5cfdc0c8-4f4c-4c05-af14-ab838cca43a0"
      },
      "source": [
        "import random\n",
        "\n",
        "# For user input \n",
        "for i in range(10):          # A for loop for row entries  \n",
        "    \n",
        "    for j in range(10):       # A for loop for column entries\n",
        "         random_number = random.randint(0, 9)\n",
        "         \n",
        "         if (random_number%2==0):\n",
        "           \n",
        "           print(\"\",random_number,end='')\n",
        "         else:  \n",
        "            \n",
        "            print(\"\",'@',end='')\n",
        "    \n",
        "    print(\"\")"
      ],
      "execution_count": null,
      "outputs": [
        {
          "output_type": "stream",
          "text": [
            " 2 @ @ @ @ 6 @ @ @ @\n",
            " 8 0 6 8 8 @ 8 @ 8 4\n",
            " 8 4 4 6 8 8 8 6 @ 4\n",
            " 2 @ 4 @ 8 @ @ 6 8 2\n",
            " 8 8 0 6 @ @ 0 2 6 @\n",
            " 6 @ @ @ @ @ 0 2 @ @\n",
            " @ 4 8 8 0 @ @ @ @ @\n",
            " 8 @ 0 0 @ 4 @ 8 0 @\n",
            " @ @ 0 @ 0 6 @ 4 6 @\n",
            " @ 2 @ @ @ 4 @ @ 6 6\n"
          ],
          "name": "stdout"
        }
      ]
    },
    {
      "cell_type": "markdown",
      "metadata": {
        "id": "rjFNtwBT6ZNC",
        "colab_type": "text"
      },
      "source": [
        "3. Calculate and Print the total of each row like the following (use \"*\" to separate the total from the numbers):"
      ]
    },
    {
      "cell_type": "code",
      "metadata": {
        "id": "WO6SAKYSOOUz",
        "colab_type": "code",
        "colab": {
          "base_uri": "https://localhost:8080/",
          "height": 187
        },
        "outputId": "a0b2bd73-b092-4192-af0c-7811f133e1b4"
      },
      "source": [
        "import random\n",
        "for i in range (10):      # A for loop for row entries\n",
        "   sum = 0\n",
        "   for j in range(10):    # A for loop for column entries\n",
        "      random_number = random.randint(0,9)\n",
        "      print(\"\",random_number,end='')\n",
        "      sum += random_number\n",
        "   print(\"\",\"*\",sum)"
      ],
      "execution_count": null,
      "outputs": [
        {
          "output_type": "stream",
          "text": [
            " 7 9 4 1 9 5 5 2 3 4 * 49\n",
            " 1 0 8 9 0 4 3 7 3 9 * 44\n",
            " 5 4 5 3 1 8 7 5 0 5 * 43\n",
            " 3 9 8 7 4 4 2 4 8 5 * 54\n",
            " 5 4 5 4 7 8 4 9 8 9 * 63\n",
            " 6 2 5 7 3 2 1 9 9 5 * 49\n",
            " 0 8 7 0 0 8 7 2 6 9 * 47\n",
            " 7 8 3 6 0 2 2 7 9 3 * 47\n",
            " 3 9 7 4 8 3 1 1 8 0 * 44\n",
            " 3 5 8 2 3 1 4 1 5 3 * 35\n"
          ],
          "name": "stdout"
        }
      ]
    },
    {
      "cell_type": "markdown",
      "metadata": {
        "id": "PQuVY-7d6f9b",
        "colab_type": "text"
      },
      "source": [
        "4. Optional: Surround the matrix with asterisks (*) like the following:"
      ]
    },
    {
      "cell_type": "code",
      "metadata": {
        "id": "g5CLSUsiRGN0",
        "colab_type": "code",
        "colab": {
          "base_uri": "https://localhost:8080/",
          "height": 221
        },
        "outputId": "aaa1a1e7-8c3e-4b76-a6ac-21c968492c82"
      },
      "source": [
        "import random\n",
        "for i in range(12):          # A for loop for row entries\n",
        "   print(\"*\",end=\"\")\n",
        "   for j in range(10):       # A for loop for column entries\n",
        "      if (i == 0 or i == 11):\n",
        "        print(\"\",\"*\",end=\"\")\n",
        "      else:\n",
        "        num = random.randint(0,9)\n",
        "        print(\"\",num,end=\"\")\n",
        "   print(\"\",\"*\")"
      ],
      "execution_count": null,
      "outputs": [
        {
          "output_type": "stream",
          "text": [
            "* * * * * * * * * * * *\n",
            "* 3 3 1 6 4 6 5 5 3 2 *\n",
            "* 1 2 2 9 2 4 3 6 6 2 *\n",
            "* 0 7 4 2 8 1 9 2 4 6 *\n",
            "* 5 0 6 9 3 2 5 1 7 2 *\n",
            "* 0 7 9 4 7 3 1 1 7 5 *\n",
            "* 0 1 9 2 4 2 6 6 4 4 *\n",
            "* 6 2 8 9 6 6 0 7 0 8 *\n",
            "* 6 1 0 0 1 2 4 9 9 6 *\n",
            "* 6 9 9 6 8 8 3 4 3 7 *\n",
            "* 9 1 5 8 7 8 4 7 8 8 *\n",
            "* * * * * * * * * * * *\n"
          ],
          "name": "stdout"
        }
      ]
    },
    {
      "cell_type": "markdown",
      "metadata": {
        "id": "HmNQd7SK6yqk",
        "colab_type": "text"
      },
      "source": [
        "5. Optional (challenging): Calculate and Print the total of each row and column like the following:\n"
      ]
    },
    {
      "cell_type": "code",
      "metadata": {
        "id": "HypUtH3GkpHS",
        "colab_type": "code",
        "colab": {
          "base_uri": "https://localhost:8080/",
          "height": 187
        },
        "outputId": "4bf0286f-6e17-4093-e268-761a43011127"
      },
      "source": [
        "import random\n",
        "matrix = [] \n",
        "  \n",
        "# For user input \n",
        "for i in range(10):          # A for loop for row entries \n",
        "     a = []\n",
        "     for j in range(10):      # A for loop for column entries \n",
        "         random_number = random.randint(0,9)\n",
        "         a.append(random_number)\n",
        "     matrix.append(a) \n",
        "  \n",
        "# For printing the matrix \n",
        "for i in range(10):\n",
        "    sum = 0\n",
        "    row_list = []\n",
        "    for j in range(10): \n",
        "        sum+=matrix[i][j]\n",
        "    row_list.append(sum) \n",
        "    #print(row_list)\n",
        "\n",
        "for i in range(10):\n",
        "    sum = 0\n",
        "    col_list = []\n",
        "    for j in range(10): \n",
        "        sum+=matrix[j][i]\n",
        "    col_list.append(sum) \n",
        "    #print(col_list)\n",
        "\n",
        "for i in range(10):          # A for loop for row entries\n",
        "   for j in range(10):       # A for loop for column entries\n",
        "      print(\"\",matrix[i][j], end = \"\")\n",
        "   \n",
        "   for i in row_list:\n",
        "     print(\"\",\"*\",i)\n",
        "     #print(i)"
      ],
      "execution_count": null,
      "outputs": [
        {
          "output_type": "stream",
          "text": [
            " 5 4 3 8 0 7 5 0 7 9 * 55\n",
            " 0 5 8 1 5 3 3 6 5 0 * 55\n",
            " 7 3 5 3 3 6 3 6 3 9 * 55\n",
            " 3 6 5 7 9 7 5 9 0 3 * 55\n",
            " 9 9 7 2 3 0 4 6 0 5 * 55\n",
            " 5 8 4 0 7 0 9 5 9 6 * 55\n",
            " 5 2 1 2 7 1 9 6 9 6 * 55\n",
            " 8 4 1 7 8 5 5 1 4 2 * 55\n",
            " 1 0 0 0 6 4 0 0 9 7 * 55\n",
            " 9 4 8 7 9 0 0 8 4 6 * 55\n"
          ],
          "name": "stdout"
        }
      ]
    },
    {
      "cell_type": "code",
      "metadata": {
        "id": "4EvNIsJh7J29",
        "colab_type": "code",
        "colab": {}
      },
      "source": [
        ""
      ],
      "execution_count": null,
      "outputs": []
    }
  ]
}