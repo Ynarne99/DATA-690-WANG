{
  "nbformat": 4,
  "nbformat_minor": 0,
  "metadata": {
    "colab": {
      "name": "690Assignment_4.ipynb",
      "provenance": [],
      "collapsed_sections": []
    },
    "kernelspec": {
      "name": "python3",
      "display_name": "Python 3"
    }
  },
  "cells": [
    {
      "cell_type": "markdown",
      "metadata": {
        "id": "SSQWltXdt3vu",
        "colab_type": "text"
      },
      "source": [
        "1. Write code to open the text file census_cost.txt and read all lines into a list named \"line_list\". Print line_list"
      ]
    },
    {
      "cell_type": "code",
      "metadata": {
        "id": "T9B5CE5FRJ2W",
        "colab_type": "code",
        "colab": {
          "base_uri": "https://localhost:8080/",
          "height": 442
        },
        "outputId": "0a900081-c553-4de1-de4a-9043424361e8"
      },
      "source": [
        "#opening file and adding it to list\n",
        "from itertools import islice\n",
        "with open(r\"census_cost.txt\") as file_in:\n",
        "    line_list = []\n",
        "    for line in file_in:\n",
        "        line_list.append(line)\n",
        "line_list"
      ],
      "execution_count": 13,
      "outputs": [
        {
          "output_type": "execute_result",
          "data": {
            "text/plain": [
              "['Source: https://www.genealogybranches.com/censuscosts.html\\n',\n",
              " 'Census Year\\tTotal Population\\tCensus Cost\\tAverage Cost Per Person\\n',\n",
              " '1790\\t3,929,214\\t$44,377\\t        1.13 cents\\n',\n",
              " '1800\\t5,308,483\\t$66,109. \\t1.24 cents\\n',\n",
              " '1810\\t7,239,881\\t$178,445\\t2.46 cents\\n',\n",
              " '1820\\t9,633,822\\t$208,526\\t2.16 cents\\n',\n",
              " '1830\\t12,866,020\\t$378,545\\t2.94 cents\\n',\n",
              " '1840\\t17,069,458\\t$833,371\\t4.88 cents\\n',\n",
              " '1850\\t23,191,876\\t$1,423,351\\t6.14 cents\\n',\n",
              " '1860\\t31,443,321\\t$1,969,377\\t6.26 cents\\n',\n",
              " '1870\\t38,558,371\\t$3,421,198\\t8.87 cents\\n',\n",
              " '1880\\t50,155,783\\t$5,790,678\\t11.54 cents\\n',\n",
              " '1890\\t62,979,766\\t$11,547,127\\t18.33 cents\\n',\n",
              " '1900\\t76,303,387\\t$11,854,000\\t15.54 cents\\n',\n",
              " '1910\\t91,972,266\\t$15,968,000\\t17.07 cents\\n',\n",
              " '1920\\t105,710,620\\t$25,117,000\\t23.76 cents\\n',\n",
              " '1930\\t122,775,046\\t$40,156,000\\t32.71 cents\\n',\n",
              " '1940\\t131,669,275\\t$67,527,000\\t51.29 cents\\n',\n",
              " '1950\\t151,325,798\\t$91,462,000\\t60.44 cents\\n',\n",
              " '1960\\t179,323,175\\t$127,934,000\\t71.34 cents\\n',\n",
              " '1970\\t203,302,031\\t$247,653,000\\t$1.22\\n',\n",
              " '1980\\t226,542,199\\t$1,078,488,000\\t$4.76\\n',\n",
              " '1990\\t248,718,301\\t$2,492,830,000\\t$10.02\\n',\n",
              " '2000\\t281,421,906\\t$4.5 Billion\\t$15.99\\n',\n",
              " '2010*\\t308,745,538\\t$13 Billion\\t$42.11']"
            ]
          },
          "metadata": {
            "tags": []
          },
          "execution_count": 13
        }
      ]
    },
    {
      "cell_type": "markdown",
      "metadata": {
        "id": "ABBUmsXZt9hq",
        "colab_type": "text"
      },
      "source": [
        "2. Extract the first two lines and put them in a different list named \"top2_list\". You will need to use them later. Print the top2_list."
      ]
    },
    {
      "cell_type": "code",
      "metadata": {
        "id": "bfjNpIY1swDM",
        "colab_type": "code",
        "colab": {
          "base_uri": "https://localhost:8080/",
          "height": 51
        },
        "outputId": "ab3564b2-6f51-4bfa-bcb6-8b74e31b55d1"
      },
      "source": [
        "# using islice removing first 2 lines\n",
        "with open(r\"census_cost.txt\") as file_in:\n",
        "    top2_list = list(islice(file_in, 2))\n",
        "top2_list"
      ],
      "execution_count": 14,
      "outputs": [
        {
          "output_type": "execute_result",
          "data": {
            "text/plain": [
              "['Source: https://www.genealogybranches.com/censuscosts.html\\n',\n",
              " 'Census Year\\tTotal Population\\tCensus Cost\\tAverage Cost Per Person\\n']"
            ]
          },
          "metadata": {
            "tags": []
          },
          "execution_count": 14
        }
      ]
    },
    {
      "cell_type": "markdown",
      "metadata": {
        "id": "GUlA8LU5uLJ9",
        "colab_type": "text"
      },
      "source": [
        "3. Put the rest of the lines (containing useful data elements) in a new list named \"data_list\". Print data_list."
      ]
    },
    {
      "cell_type": "code",
      "metadata": {
        "id": "4i-5Jm92s52s",
        "colab_type": "code",
        "colab": {
          "base_uri": "https://localhost:8080/",
          "height": 408
        },
        "outputId": "dd854e23-224d-49d0-e175-3841a72b3c4f"
      },
      "source": [
        "# reading the rest of the lines\n",
        "with open(r\"census_cost.txt\") as file_in:\n",
        "    data_list=file_in.readlines()[2:]\n",
        "data_list"
      ],
      "execution_count": 15,
      "outputs": [
        {
          "output_type": "execute_result",
          "data": {
            "text/plain": [
              "['1790\\t3,929,214\\t$44,377\\t        1.13 cents\\n',\n",
              " '1800\\t5,308,483\\t$66,109. \\t1.24 cents\\n',\n",
              " '1810\\t7,239,881\\t$178,445\\t2.46 cents\\n',\n",
              " '1820\\t9,633,822\\t$208,526\\t2.16 cents\\n',\n",
              " '1830\\t12,866,020\\t$378,545\\t2.94 cents\\n',\n",
              " '1840\\t17,069,458\\t$833,371\\t4.88 cents\\n',\n",
              " '1850\\t23,191,876\\t$1,423,351\\t6.14 cents\\n',\n",
              " '1860\\t31,443,321\\t$1,969,377\\t6.26 cents\\n',\n",
              " '1870\\t38,558,371\\t$3,421,198\\t8.87 cents\\n',\n",
              " '1880\\t50,155,783\\t$5,790,678\\t11.54 cents\\n',\n",
              " '1890\\t62,979,766\\t$11,547,127\\t18.33 cents\\n',\n",
              " '1900\\t76,303,387\\t$11,854,000\\t15.54 cents\\n',\n",
              " '1910\\t91,972,266\\t$15,968,000\\t17.07 cents\\n',\n",
              " '1920\\t105,710,620\\t$25,117,000\\t23.76 cents\\n',\n",
              " '1930\\t122,775,046\\t$40,156,000\\t32.71 cents\\n',\n",
              " '1940\\t131,669,275\\t$67,527,000\\t51.29 cents\\n',\n",
              " '1950\\t151,325,798\\t$91,462,000\\t60.44 cents\\n',\n",
              " '1960\\t179,323,175\\t$127,934,000\\t71.34 cents\\n',\n",
              " '1970\\t203,302,031\\t$247,653,000\\t$1.22\\n',\n",
              " '1980\\t226,542,199\\t$1,078,488,000\\t$4.76\\n',\n",
              " '1990\\t248,718,301\\t$2,492,830,000\\t$10.02\\n',\n",
              " '2000\\t281,421,906\\t$4.5 Billion\\t$15.99\\n',\n",
              " '2010*\\t308,745,538\\t$13 Billion\\t$42.11']"
            ]
          },
          "metadata": {
            "tags": []
          },
          "execution_count": 15
        }
      ]
    },
    {
      "cell_type": "markdown",
      "metadata": {
        "id": "cp6juzIduVmK",
        "colab_type": "text"
      },
      "source": [
        "4. Extract the column \"Census Year\" from data_list and assign them to a list named year_list. Remove the \"\" from the last element \"2010\". Print the cleansed year_list."
      ]
    },
    {
      "cell_type": "code",
      "metadata": {
        "id": "gvtVcjnus-Aw",
        "colab_type": "code",
        "colab": {
          "base_uri": "https://localhost:8080/",
          "height": 408
        },
        "outputId": "9f2a5d41-d734-47fc-da60-37c74312cd49"
      },
      "source": [
        "# cleansing the year_list and display the year_list column\n",
        "year_list=[]\n",
        "for year in data_list:\n",
        "    col = year.split('\\t')\n",
        "    col = list(filter(None,col))\n",
        "    year_list.append(col[0])\n",
        "year_list"
      ],
      "execution_count": 16,
      "outputs": [
        {
          "output_type": "execute_result",
          "data": {
            "text/plain": [
              "['1790',\n",
              " '1800',\n",
              " '1810',\n",
              " '1820',\n",
              " '1830',\n",
              " '1840',\n",
              " '1850',\n",
              " '1860',\n",
              " '1870',\n",
              " '1880',\n",
              " '1890',\n",
              " '1900',\n",
              " '1910',\n",
              " '1920',\n",
              " '1930',\n",
              " '1940',\n",
              " '1950',\n",
              " '1960',\n",
              " '1970',\n",
              " '1980',\n",
              " '1990',\n",
              " '2000',\n",
              " '2010*']"
            ]
          },
          "metadata": {
            "tags": []
          },
          "execution_count": 16
        }
      ]
    },
    {
      "cell_type": "markdown",
      "metadata": {
        "id": "i6d3yxUfurNG",
        "colab_type": "text"
      },
      "source": [
        "5. Extract the \"Total Population\" column from the data_list and assign them to a list named \"pop_list\". Remove the \",\" from the numbers since Python doesn't recognize them. Print the cleansed \"pop_list\"."
      ]
    },
    {
      "cell_type": "code",
      "metadata": {
        "id": "hL3pm6oftCtf",
        "colab_type": "code",
        "colab": {
          "base_uri": "https://localhost:8080/",
          "height": 408
        },
        "outputId": "59896f75-07b4-43db-9704-44289834891a"
      },
      "source": [
        "# clensing the population column and displaying the pop_list\n",
        "pop_list=[]\n",
        "for population in data_list:\n",
        "    col = population.split('\\t')\n",
        "    col = list(filter(None,col))\n",
        "    pop_list.append(col[1].replace(',',''))\n",
        "pop_list"
      ],
      "execution_count": 17,
      "outputs": [
        {
          "output_type": "execute_result",
          "data": {
            "text/plain": [
              "['3929214',\n",
              " '5308483',\n",
              " '7239881',\n",
              " '9633822',\n",
              " '12866020',\n",
              " '17069458',\n",
              " '23191876',\n",
              " '31443321',\n",
              " '38558371',\n",
              " '50155783',\n",
              " '62979766',\n",
              " '76303387',\n",
              " '91972266',\n",
              " '105710620',\n",
              " '122775046',\n",
              " '131669275',\n",
              " '151325798',\n",
              " '179323175',\n",
              " '203302031',\n",
              " '226542199',\n",
              " '248718301',\n",
              " '281421906',\n",
              " '308745538']"
            ]
          },
          "metadata": {
            "tags": []
          },
          "execution_count": 17
        }
      ]
    },
    {
      "cell_type": "markdown",
      "metadata": {
        "id": "mzxFXxXivXAe",
        "colab_type": "text"
      },
      "source": [
        "6. Extract the \"Census Cost\" column from the data_list and assign them to a list named \"cost_list\". Remove the \",\", and \"$\", and \"Billion\". Make sure to add the \"0\"s to the numbers from which you removed \"Billion\". Print the cleansed cost_list."
      ]
    },
    {
      "cell_type": "code",
      "metadata": {
        "id": "1zLwf8I7tHgu",
        "colab_type": "code",
        "colab": {}
      },
      "source": [
        "# getprice function clenses the cost column and returns price that is converted as per requirements.\n",
        "\n",
        "import math\n",
        "def getprice(price):\n",
        "    price=price.replace('$', '')\n",
        "    price=price.replace(',', '')\n",
        "    if 'Billion' in price:\n",
        "        price=price.replace(\"Billion\",\"\")\n",
        "        price = float(price)*(math.pow(10,9))\n",
        "        price = str(int(price))\n",
        "    return price"
      ],
      "execution_count": 18,
      "outputs": []
    },
    {
      "cell_type": "code",
      "metadata": {
        "id": "yNY8pYpKtMbh",
        "colab_type": "code",
        "colab": {
          "base_uri": "https://localhost:8080/",
          "height": 408
        },
        "outputId": "b4ce490d-d349-4379-c845-7415c833dcb5"
      },
      "source": [
        "# printing the clensed cost list\n",
        "cost_list=[]\n",
        "for cost in data_list:\n",
        "    col = cost.split('\\t')\n",
        "    col = list(filter(None,col))\n",
        "    cost_list.append(getprice(col[2]))  \n",
        "cost_list"
      ],
      "execution_count": 19,
      "outputs": [
        {
          "output_type": "execute_result",
          "data": {
            "text/plain": [
              "['44377',\n",
              " '66109. ',\n",
              " '178445',\n",
              " '208526',\n",
              " '378545',\n",
              " '833371',\n",
              " '1423351',\n",
              " '1969377',\n",
              " '3421198',\n",
              " '5790678',\n",
              " '11547127',\n",
              " '11854000',\n",
              " '15968000',\n",
              " '25117000',\n",
              " '40156000',\n",
              " '67527000',\n",
              " '91462000',\n",
              " '127934000',\n",
              " '247653000',\n",
              " '1078488000',\n",
              " '2492830000',\n",
              " '4500000000',\n",
              " '13000000000']"
            ]
          },
          "metadata": {
            "tags": []
          },
          "execution_count": 19
        }
      ]
    },
    {
      "cell_type": "markdown",
      "metadata": {
        "id": "wB-I50JUvmo9",
        "colab_type": "text"
      },
      "source": [
        "7. Extract the \"Average Cost per Person\" column from the data_list and assign them to a list named \"avg_list\". Remove the \"cents\", and \"$\". Make sure to divide the numbers in cents by 100 so that all numbers are measured in dollar. Print the cleansed avg_list."
      ]
    },
    {
      "cell_type": "code",
      "metadata": {
        "id": "RMIMjD7ktRvg",
        "colab_type": "code",
        "colab": {}
      },
      "source": [
        "# AvgCostperperson() function replace the $ ,\\t,\\n and converts the cents\n",
        "def AvgCostperperson(price):\n",
        "    price = price.replace('$','')\n",
        "    price = price.replace('\\t','')\n",
        "    price = price.replace('\\n','')\n",
        "    if 'cents' in price:\n",
        "        price = price.replace('cents','')\n",
        "        price = float(price)/100\n",
        "    return str(price)"
      ],
      "execution_count": 20,
      "outputs": []
    },
    {
      "cell_type": "code",
      "metadata": {
        "id": "ZmP5IQK7tZed",
        "colab_type": "code",
        "colab": {
          "base_uri": "https://localhost:8080/",
          "height": 408
        },
        "outputId": "86a0a998-fcb9-4049-eb0d-62a6481b3ffe"
      },
      "source": [
        "# printing the average cost list after clensing\n",
        "avg_list=[]\n",
        "for cost in data_list:\n",
        "    col = cost.split('\\t')\n",
        "    col = list(filter(None,col))\n",
        "    avg_list.append(AvgCostperperson(col[3]))\n",
        "    \n",
        "avg_list"
      ],
      "execution_count": 21,
      "outputs": [
        {
          "output_type": "execute_result",
          "data": {
            "text/plain": [
              "['0.0113',\n",
              " '0.0124',\n",
              " '0.0246',\n",
              " '0.0216',\n",
              " '0.0294',\n",
              " '0.048799999999999996',\n",
              " '0.061399999999999996',\n",
              " '0.0626',\n",
              " '0.08869999999999999',\n",
              " '0.11539999999999999',\n",
              " '0.1833',\n",
              " '0.15539999999999998',\n",
              " '0.1707',\n",
              " '0.2376',\n",
              " '0.3271',\n",
              " '0.5129',\n",
              " '0.6043999999999999',\n",
              " '0.7134',\n",
              " '1.22',\n",
              " '4.76',\n",
              " '10.02',\n",
              " '15.99',\n",
              " '42.11']"
            ]
          },
          "metadata": {
            "tags": []
          },
          "execution_count": 21
        }
      ]
    },
    {
      "cell_type": "markdown",
      "metadata": {
        "id": "ZK8UWDn2wDAV",
        "colab_type": "text"
      },
      "source": [
        "8. Coalesce the cleansed data and save them to a text file named \"census_cost.csv\". The new file should look similar to the original source file except that it is in comma-delimited format and the numbers have been cleansed. The top two lines from the original file should be retained in the new file."
      ]
    },
    {
      "cell_type": "code",
      "metadata": {
        "id": "MQNz6rlute7K",
        "colab_type": "code",
        "colab": {}
      },
      "source": [
        "import itertools\n",
        "file = open(r\"census_cost.csv\",\"w+\")\n",
        "\n",
        "first = top2_list[0].replace('\\n','').split('\\t')\n",
        "second = top2_list[1].replace('\\n','').split('\\t')\n",
        "\n",
        "\n",
        "first = list(filter(None,first))\n",
        "second = list(filter(None,second))\n",
        "\n",
        "file.write(\"{}\\n\".format(','.join(first)))\n",
        "file.write(\"{}\\n\".format(','.join(second)))\n",
        "\n",
        "for (col1,col2,col3,col4) in zip(year_list, pop_list, cost_list, avg_list):\n",
        "    col = col1+','+col2+','+col3+','+col4\n",
        "    file.write(\"{}\\n\".format(col))"
      ],
      "execution_count": 22,
      "outputs": []
    },
    {
      "cell_type": "markdown",
      "metadata": {
        "id": "5BGehoVAwIrV",
        "colab_type": "text"
      },
      "source": [
        "9. Coalesce the cleansed data and save them to a text file named \"census_cost.csv\". The new file should look similar to the original source file except that it is in comma-delimited format and the numbers have been cleansed. The top two lines from the original file should be retained in the new file."
      ]
    },
    {
      "cell_type": "code",
      "metadata": {
        "id": "74KKjc3ltm52",
        "colab_type": "code",
        "colab": {
          "base_uri": "https://localhost:8080/",
          "height": 459
        },
        "outputId": "b18ca7e0-0e01-4550-aa3c-63e3e544f5e3"
      },
      "source": [
        "# Reading the file\n",
        "with open(r\"census_cost.csv\") as file:\n",
        "    print(file.read())"
      ],
      "execution_count": 23,
      "outputs": [
        {
          "output_type": "stream",
          "text": [
            "Source: https://www.genealogybranches.com/censuscosts.html\n",
            "Census Year,Total Population,Census Cost,Average Cost Per Person\n",
            "1790,3929214,44377,0.0113\n",
            "1800,5308483,66109. ,0.0124\n",
            "1810,7239881,178445,0.0246\n",
            "1820,9633822,208526,0.0216\n",
            "1830,12866020,378545,0.0294\n",
            "1840,17069458,833371,0.048799999999999996\n",
            "1850,23191876,1423351,0.061399999999999996\n",
            "1860,31443321,1969377,0.0626\n",
            "1870,38558371,3421198,0.08869999999999999\n",
            "1880,50155783,5790678,0.11539999999999999\n",
            "1890,62979766,11547127,0.1833\n",
            "1900,76303387,11854000,0.15539999999999998\n",
            "1910,91972266,15968000,0.1707\n",
            "1920,105710620,25117000,0.2376\n",
            "1930,122775046,40156000,0.3271\n",
            "1940,131669275,67527000,0.5129\n",
            "1950,151325798,91462000,0.6043999999999999\n",
            "1960,179323175,127934000,0.7134\n",
            "1970,203302031,247653000,1.22\n",
            "1980,226542199,1078488000,4.76\n",
            "1990,248718301,2492830000,10.02\n",
            "2000,281421906,4500000000,15.99\n",
            "2010*,308745538,13000000000,42.11\n",
            "\n"
          ],
          "name": "stdout"
        }
      ]
    },
    {
      "cell_type": "code",
      "metadata": {
        "id": "bu43eO6Gt13G",
        "colab_type": "code",
        "colab": {}
      },
      "source": [
        ""
      ],
      "execution_count": 23,
      "outputs": []
    }
  ]
}