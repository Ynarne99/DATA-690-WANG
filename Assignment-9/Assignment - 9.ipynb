{
 "cells": [
  {
   "cell_type": "code",
   "execution_count": 54,
   "metadata": {},
   "outputs": [],
   "source": [
    "import pandas as pd\n",
    "import random\n",
    "import os\n",
    "import statistics as st\n",
    "import math"
   ]
  },
  {
   "cell_type": "code",
   "execution_count": 55,
   "metadata": {},
   "outputs": [
    {
     "name": "stdout",
     "output_type": "stream",
     "text": [
      "/Users/veeruvvc/Desktop/Yoshita/Fall2020/690-01/Assignment 9\n"
     ]
    }
   ],
   "source": [
    "print(os.getcwd())"
   ]
  },
  {
   "cell_type": "code",
   "execution_count": 56,
   "metadata": {},
   "outputs": [
    {
     "data": {
      "text/plain": [
       "['MERGED2011_12_PP.csv',\n",
       " 'MERGED1999_00_PP.csv',\n",
       " 'MERGED2006_07_PP.csv',\n",
       " 'MERGED2014_15_PP.csv',\n",
       " '.DS_Store',\n",
       " 'MERGED2003_04_PP.csv',\n",
       " 'MERGED1996_97_PP.csv',\n",
       " 'FieldOfStudyData1516_1617_PP.csv',\n",
       " 'MERGED2012_13_PP.csv',\n",
       " 'MERGED2005_06_PP.csv',\n",
       " 'MERGED2009_10_PP.csv',\n",
       " 'MERGED2018_19_PP.csv',\n",
       " 'Assignment - 9.ipynb',\n",
       " 'MERGED2017_18_PP.csv',\n",
       " 'Crosswalks.zip',\n",
       " 'MERGED2000_01_PP.csv',\n",
       " 'MERGED2001_02_PP.csv',\n",
       " 'MERGED2016_17_PP.csv',\n",
       " 'MERGED1997_98_PP.csv',\n",
       " 'MERGED1998_99_PP.csv',\n",
       " 'data.yaml',\n",
       " 'MERGED2004_05_PP.csv',\n",
       " '.ipynb_checkpoints',\n",
       " 'MERGED2002_03_PP.csv',\n",
       " 'MERGED2015_16_PP.csv',\n",
       " 'MERGED2013_14_PP.csv',\n",
       " 'MERGED2007_08_PP.csv',\n",
       " 'MERGED2008_09_PP.csv',\n",
       " 'MERGED2010_11_PP.csv',\n",
       " 'FieldOfStudyData1415_1516_PP.csv']"
      ]
     },
     "execution_count": 56,
     "metadata": {},
     "output_type": "execute_result"
    }
   ],
   "source": [
    "files_list = os.listdir()\n",
    "files_list"
   ]
  },
  {
   "cell_type": "code",
   "execution_count": 57,
   "metadata": {},
   "outputs": [
    {
     "data": {
      "text/plain": [
       "['MERGED1996_97_PP.csv',\n",
       " 'MERGED1997_98_PP.csv',\n",
       " 'MERGED1998_99_PP.csv',\n",
       " 'MERGED1999_00_PP.csv',\n",
       " 'MERGED2000_01_PP.csv',\n",
       " 'MERGED2001_02_PP.csv',\n",
       " 'MERGED2002_03_PP.csv',\n",
       " 'MERGED2003_04_PP.csv',\n",
       " 'MERGED2004_05_PP.csv',\n",
       " 'MERGED2005_06_PP.csv',\n",
       " 'MERGED2006_07_PP.csv',\n",
       " 'MERGED2007_08_PP.csv',\n",
       " 'MERGED2008_09_PP.csv',\n",
       " 'MERGED2009_10_PP.csv',\n",
       " 'MERGED2010_11_PP.csv',\n",
       " 'MERGED2011_12_PP.csv',\n",
       " 'MERGED2012_13_PP.csv',\n",
       " 'MERGED2013_14_PP.csv',\n",
       " 'MERGED2014_15_PP.csv',\n",
       " 'MERGED2015_16_PP.csv',\n",
       " 'MERGED2016_17_PP.csv',\n",
       " 'MERGED2017_18_PP.csv',\n",
       " 'MERGED2018_19_PP.csv']"
      ]
     },
     "execution_count": 57,
     "metadata": {},
     "output_type": "execute_result"
    }
   ],
   "source": [
    "merged_files_list = [file for file in files_list if file.startswith(\"MERGED\")]\n",
    "\n",
    "merged_files_list.sort()\n",
    "merged_files_list"
   ]
  },
  {
   "cell_type": "code",
   "execution_count": 58,
   "metadata": {},
   "outputs": [
    {
     "name": "stdout",
     "output_type": "stream",
     "text": [
      "MERGED2008_09_PP.csv\n"
     ]
    }
   ],
   "source": [
    "# 3 - Write code to randomly select one file name out of the 22 files names. \n",
    "# Hint: generate a random integer between 0 and 21 first\n",
    "# Display the file name\n",
    "\n",
    "selected_file = merged_files_list[random.randint(0,21)]\n",
    "print(selected_file)"
   ]
  },
  {
   "cell_type": "code",
   "execution_count": 59,
   "metadata": {},
   "outputs": [
    {
     "name": "stdout",
     "output_type": "stream",
     "text": [
      "<class 'pandas.core.frame.DataFrame'>\n",
      "RangeIndex: 6806 entries, 0 to 6805\n",
      "Data columns (total 2 columns):\n",
      "INSTNM           6806 non-null object\n",
      "TUITIONFEE_IN    3865 non-null float64\n",
      "dtypes: float64(1), object(1)\n",
      "memory usage: 106.5+ KB\n"
     ]
    }
   ],
   "source": [
    "data_list = []\n",
    "\n",
    "for selected_file in merged_files_list:\n",
    "    df = pd.read_csv(selected_file, usecols = [\"INSTNM\", \"TUITIONFEE_IN\"])\n",
    "df.info()"
   ]
  },
  {
   "cell_type": "code",
   "execution_count": 60,
   "metadata": {},
   "outputs": [
    {
     "data": {
      "text/plain": [
       "INSTNM              0\n",
       "TUITIONFEE_IN    2941\n",
       "dtype: int64"
      ]
     },
     "execution_count": 60,
     "metadata": {},
     "output_type": "execute_result"
    }
   ],
   "source": [
    "# 5 - Find out how many observations have missing value.\n",
    "df.isnull().sum()"
   ]
  },
  {
   "cell_type": "code",
   "execution_count": 61,
   "metadata": {},
   "outputs": [
    {
     "data": {
      "text/plain": [
       "(3865, 2)"
      ]
     },
     "execution_count": 61,
     "metadata": {},
     "output_type": "execute_result"
    }
   ],
   "source": [
    "# 6 - Drop those observations with missing value\n",
    "# Disaply the number of observations afterward\n",
    "df = df.dropna() \n",
    "df.shape"
   ]
  },
  {
   "cell_type": "code",
   "execution_count": 62,
   "metadata": {},
   "outputs": [
    {
     "data": {
      "text/plain": [
       "(0, 2)"
      ]
     },
     "execution_count": 62,
     "metadata": {},
     "output_type": "execute_result"
    }
   ],
   "source": [
    "# 7 - Find out how many observations have 0 tution. \n",
    "zero_tuition_fee = df[df['TUITIONFEE_IN']==0]\n",
    "zero_tuition_fee.shape\n",
    "#There are 7 observations with tuition fee as 0"
   ]
  },
  {
   "cell_type": "code",
   "execution_count": 63,
   "metadata": {},
   "outputs": [
    {
     "data": {
      "text/plain": [
       "(3865, 2)"
      ]
     },
     "execution_count": 63,
     "metadata": {},
     "output_type": "execute_result"
    }
   ],
   "source": [
    "# 8 - Drop those observations with 0 tuition\n",
    "# Disaply the number of observations afterward\n",
    "df = df[df['TUITIONFEE_IN']!=0]\n",
    "df.shape"
   ]
  },
  {
   "cell_type": "code",
   "execution_count": 64,
   "metadata": {},
   "outputs": [
    {
     "name": "stdout",
     "output_type": "stream",
     "text": [
      "Average Tuition Fees  15476.787322121605\n"
     ]
    }
   ],
   "source": [
    "# 9 - Calculate and display the mean (average) of the tuitions of all the remaining observations \n",
    "average_tution_fee = st.mean(df['TUITIONFEE_IN'])\n",
    "print('Average Tuition Fees ', average_tution_fee )"
   ]
  },
  {
   "cell_type": "code",
   "execution_count": 65,
   "metadata": {},
   "outputs": [
    {
     "name": "stdout",
     "output_type": "stream",
     "text": [
      "                   INSTNM  TUITIONFEE_IN\n",
      "999  Roosevelt University        29832.0\n"
     ]
    }
   ],
   "source": [
    "# 10 - Randomly select just 1 observation from the data frame.\n",
    "# Display the tuition of that observation. \n",
    "one_row = df.loc[[random.randint(0,df.shape[0])]]\n",
    "print(one_row)"
   ]
  },
  {
   "cell_type": "code",
   "execution_count": 66,
   "metadata": {},
   "outputs": [
    {
     "name": "stdout",
     "output_type": "stream",
     "text": [
      "999    14355.212678\n",
      "Name: TUITIONFEE_IN, dtype: float64\n"
     ]
    }
   ],
   "source": [
    "# 11 - Calculate the different between the tuition of this observation and \n",
    "# the mean tuition off all observations calculated earlier.\n",
    "# Display the difference\n",
    "print(one_row['TUITIONFEE_IN']-average_fee)"
   ]
  },
  {
   "cell_type": "code",
   "execution_count": 67,
   "metadata": {},
   "outputs": [],
   "source": [
    "# 12 - Repeat 10 to 11 several times get the feel of the size of the difference in means"
   ]
  },
  {
   "cell_type": "code",
   "execution_count": 68,
   "metadata": {},
   "outputs": [
    {
     "data": {
      "text/html": [
       "<div>\n",
       "<style scoped>\n",
       "    .dataframe tbody tr th:only-of-type {\n",
       "        vertical-align: middle;\n",
       "    }\n",
       "\n",
       "    .dataframe tbody tr th {\n",
       "        vertical-align: top;\n",
       "    }\n",
       "\n",
       "    .dataframe thead th {\n",
       "        text-align: right;\n",
       "    }\n",
       "</style>\n",
       "<table border=\"1\" class=\"dataframe\">\n",
       "  <thead>\n",
       "    <tr style=\"text-align: right;\">\n",
       "      <th></th>\n",
       "      <th>INSTNM</th>\n",
       "      <th>TUITIONFEE_IN</th>\n",
       "    </tr>\n",
       "  </thead>\n",
       "  <tbody>\n",
       "    <tr>\n",
       "      <td>3135</td>\n",
       "      <td>South Carolina State University</td>\n",
       "      <td>11060.0</td>\n",
       "    </tr>\n",
       "    <tr>\n",
       "      <td>2944</td>\n",
       "      <td>Vet Tech Institute</td>\n",
       "      <td>15020.0</td>\n",
       "    </tr>\n",
       "    <tr>\n",
       "      <td>3922</td>\n",
       "      <td>Platt College-Los Angeles</td>\n",
       "      <td>13794.0</td>\n",
       "    </tr>\n",
       "    <tr>\n",
       "      <td>220</td>\n",
       "      <td>University of California-Berkeley</td>\n",
       "      <td>14184.0</td>\n",
       "    </tr>\n",
       "    <tr>\n",
       "      <td>2963</td>\n",
       "      <td>Pennsylvania State University-Penn State Erie-...</td>\n",
       "      <td>15198.0</td>\n",
       "    </tr>\n",
       "    <tr>\n",
       "      <td>1945</td>\n",
       "      <td>York College</td>\n",
       "      <td>19310.0</td>\n",
       "    </tr>\n",
       "    <tr>\n",
       "      <td>4900</td>\n",
       "      <td>Eagle Gate College-Layton</td>\n",
       "      <td>13605.0</td>\n",
       "    </tr>\n",
       "    <tr>\n",
       "      <td>1514</td>\n",
       "      <td>Merrimack College</td>\n",
       "      <td>41760.0</td>\n",
       "    </tr>\n",
       "    <tr>\n",
       "      <td>5449</td>\n",
       "      <td>National Paralegal College</td>\n",
       "      <td>7995.0</td>\n",
       "    </tr>\n",
       "    <tr>\n",
       "      <td>971</td>\n",
       "      <td>Moody Bible Institute</td>\n",
       "      <td>13056.0</td>\n",
       "    </tr>\n",
       "    <tr>\n",
       "      <td>2477</td>\n",
       "      <td>Rockingham Community College</td>\n",
       "      <td>1966.0</td>\n",
       "    </tr>\n",
       "    <tr>\n",
       "      <td>5736</td>\n",
       "      <td>Institute of Health Sciences</td>\n",
       "      <td>15100.0</td>\n",
       "    </tr>\n",
       "    <tr>\n",
       "      <td>1267</td>\n",
       "      <td>University of Kentucky</td>\n",
       "      <td>12245.0</td>\n",
       "    </tr>\n",
       "    <tr>\n",
       "      <td>4063</td>\n",
       "      <td>Fortis College-Smyrna</td>\n",
       "      <td>14815.0</td>\n",
       "    </tr>\n",
       "    <tr>\n",
       "      <td>761</td>\n",
       "      <td>Andrew College</td>\n",
       "      <td>17388.0</td>\n",
       "    </tr>\n",
       "    <tr>\n",
       "      <td>1358</td>\n",
       "      <td>Bates College</td>\n",
       "      <td>53794.0</td>\n",
       "    </tr>\n",
       "    <tr>\n",
       "      <td>2725</td>\n",
       "      <td>Cameron University</td>\n",
       "      <td>6450.0</td>\n",
       "    </tr>\n",
       "    <tr>\n",
       "      <td>1484</td>\n",
       "      <td>Fisher College</td>\n",
       "      <td>31384.0</td>\n",
       "    </tr>\n",
       "    <tr>\n",
       "      <td>2853</td>\n",
       "      <td>Butler County Community College</td>\n",
       "      <td>4950.0</td>\n",
       "    </tr>\n",
       "    <tr>\n",
       "      <td>2215</td>\n",
       "      <td>Ithaca College</td>\n",
       "      <td>43978.0</td>\n",
       "    </tr>\n",
       "  </tbody>\n",
       "</table>\n",
       "</div>"
      ],
      "text/plain": [
       "                                                 INSTNM  TUITIONFEE_IN\n",
       "3135                    South Carolina State University        11060.0\n",
       "2944                                 Vet Tech Institute        15020.0\n",
       "3922                          Platt College-Los Angeles        13794.0\n",
       "220                   University of California-Berkeley        14184.0\n",
       "2963  Pennsylvania State University-Penn State Erie-...        15198.0\n",
       "1945                                       York College        19310.0\n",
       "4900                          Eagle Gate College-Layton        13605.0\n",
       "1514                                  Merrimack College        41760.0\n",
       "5449                         National Paralegal College         7995.0\n",
       "971                               Moody Bible Institute        13056.0\n",
       "2477                       Rockingham Community College         1966.0\n",
       "5736                       Institute of Health Sciences        15100.0\n",
       "1267                             University of Kentucky        12245.0\n",
       "4063                              Fortis College-Smyrna        14815.0\n",
       "761                                      Andrew College        17388.0\n",
       "1358                                      Bates College        53794.0\n",
       "2725                                 Cameron University         6450.0\n",
       "1484                                     Fisher College        31384.0\n",
       "2853                    Butler County Community College         4950.0\n",
       "2215                                     Ithaca College        43978.0"
      ]
     },
     "execution_count": 68,
     "metadata": {},
     "output_type": "execute_result"
    }
   ],
   "source": [
    "# 13 - Randomly select 20 observations, display the tuition of these observation. \n",
    "random_observations = df.sample(20)\n",
    "random_observations"
   ]
  },
  {
   "cell_type": "code",
   "execution_count": 69,
   "metadata": {},
   "outputs": [
    {
     "name": "stdout",
     "output_type": "stream",
     "text": [
      "Average Tuition fee of Random Observations : 18352.6\n"
     ]
    }
   ],
   "source": [
    "# 14 - Calculate and display the mean tuition of these 20 observations\n",
    "mean_observations = st.mean(random_observations['TUITIONFEE_IN'])\n",
    "print('Average Tuition fee of Random Observations :', mean_observations)"
   ]
  },
  {
   "cell_type": "code",
   "execution_count": 70,
   "metadata": {},
   "outputs": [
    {
     "name": "stdout",
     "output_type": "stream",
     "text": [
      "Difference between Random observations and previous observations  2875.8126778783935\n"
     ]
    }
   ],
   "source": [
    "# 15 - Calculate  the different between the average tuition of these 20 observations \n",
    "# and the mean tuition off all observations calculated earlier.\n",
    "# Display the difference\n",
    "mean_difference = mean_observations-average_fee\n",
    "print('Difference between Random observations and previous observations ',mean_difference)"
   ]
  },
  {
   "cell_type": "code",
   "execution_count": 71,
   "metadata": {},
   "outputs": [],
   "source": [
    "# 16 - Repeat 13 to 15 several times and get the feel of the size of the difference in means \n",
    "# Compare these differences with the differences calculated earlier with just 1 observation\n",
    "# Describe your hunch/conclusion"
   ]
  },
  {
   "cell_type": "markdown",
   "metadata": {},
   "source": [
    "Write a function that take two input parameters:\n",
    "\n",
    "* x (number of observations)\n",
    "* y (the name of the dataframe).\n",
    "\n",
    "The function will perform the following:\n",
    "\n",
    "* Randomly select x observations from y\n",
    "* Calculate the mean of these x observations\n",
    "* Calculate the mean of all observations\n",
    "* Calculate the difference between the two means\n",
    "* Return the difference"
   ]
  },
  {
   "cell_type": "code",
   "execution_count": 72,
   "metadata": {},
   "outputs": [],
   "source": [
    "# 17 - write function Code here\n",
    "def mean_function(x,y):\n",
    "    random_obs = y.sample(x)\n",
    "    mean_random_obs = st.mean(random_obs['TUITIONFEE_IN'])\n",
    "    total_mean = st.mean(y['TUITIONFEE_IN'])\n",
    "    return abs(mean_random_obs-total_mean)"
   ]
  },
  {
   "cell_type": "code",
   "execution_count": 73,
   "metadata": {},
   "outputs": [
    {
     "name": "stdout",
     "output_type": "stream",
     "text": [
      "Mean of random sample:  939.120655454939\n"
     ]
    }
   ],
   "source": [
    "# 18 - test the function by passing a sample size and the name of the dataframe\n",
    "# Dsplay the return of the function\n",
    "random_sample = 30\n",
    "print('Mean of random sample: ',mean_function(30,df))"
   ]
  },
  {
   "cell_type": "code",
   "execution_count": 74,
   "metadata": {},
   "outputs": [
    {
     "name": "stdout",
     "output_type": "stream",
     "text": [
      "[1, 2, 3, 4, 5, 6, 7, 8, 9, 10, 11, 12, 13, 14, 15, 16, 17, 18, 19, 20, 21, 22, 23, 24, 25, 26, 27, 28, 29, 30, 31, 32, 33, 34, 35, 36, 37, 38, 39, 40, 41, 42, 43, 44, 45, 46, 47, 48, 49, 50]\n"
     ]
    }
   ],
   "source": [
    "# 19 - Create a list of sequence numbers from 1 to 50, name it \"sample_sizes\";\n",
    "# display it to make sure its members are from 1 to 50\n",
    "sample_sizes = [i for i in range(1,51)]\n",
    "print(sample_sizes)"
   ]
  },
  {
   "cell_type": "code",
   "execution_count": 75,
   "metadata": {},
   "outputs": [
    {
     "name": "stdout",
     "output_type": "stream",
     "text": [
      "Means_diff List after the loop :\n",
      "[13334.787322121605, 7267.787322121605, 6219.212677878395, 5064.287322121605, 1925.6126778783964, 10336.453988788271, 5878.358750693034, 4350.712677878395, 3782.7682334339497, 3706.6873221216047, 6630.667223332939, 1999.203988788271, 3095.6334759677593, 3404.0698207355363, 1611.5873221216043, 6566.849822121605, 3809.3167338863113, 1643.6015667672855, 1954.1557431742367, 32.53732212160503, 1804.1174397831583, 390.394496060213, 1563.917756904213, 1981.087677878395, 968.2273221216055, 3826.0180913523745, 4892.972507306789, 1925.962677878395, 2350.2011152250525, 2713.3126778783935, 1287.5292576054762, 3480.962677878395, 4121.758132423851, 1022.4343809451348, 360.8730364073199, 1398.6849001006176, 1632.3207859865015, 905.2389936678683, 40.46908813480513, 1698.0123221216054, 923.6517022686403, 2682.287322121605, 815.724305785372, 1720.417223332939, 2911.4571223228395, 637.8525395129091, 2935.276683823733, 4.754344545061031, 34.848546611401616, 2659.0473221216052]\n"
     ]
    }
   ],
   "source": [
    "#20 - Create an empty list and name it \"means_diff\" for differences of population mean and sample means;\n",
    "# Loop through the list sample_sizes:\n",
    "# For each element in the sample size list, obtain a random sample of that size from the data frame;\n",
    "# Calculate the sample mean \n",
    "# Calculate the difference between the population mean and the sample mean\n",
    "# Append the difference to the list \"means_diff\"\n",
    "# Display the list \"means_diff\" after the loop is completed\n",
    "\n",
    "def calculateMeanDifference(sample_sizes,df):\n",
    "    means_diff = []\n",
    "    population_mean = st.mean(df['TUITIONFEE_IN'])\n",
    "    for i in sample_sizes:\n",
    "        sample_df = df.sample(i)\n",
    "        sample_mean = st.mean(sample_df['TUITIONFEE_IN'])\n",
    "        means_diff.append(abs(sample_mean-population_mean))\n",
    "    return means_diff\n",
    "    \n",
    "print('Means_diff List after the loop :')\n",
    "means_diff = calculateMeanDifference(sample_sizes,df)\n",
    "print(means_diff)\n"
   ]
  },
  {
   "cell_type": "code",
   "execution_count": 76,
   "metadata": {},
   "outputs": [
    {
     "data": {
      "text/plain": [
       "<matplotlib.collections.PathCollection at 0x7f9280f819d0>"
      ]
     },
     "execution_count": 76,
     "metadata": {},
     "output_type": "execute_result"
    },
    {
     "data": {
      "image/png": "[encoded data removed]",
      "text/plain": [
       "<Figure size 432x288 with 1 Axes>"
      ]
     },
     "metadata": {
      "needs_background": "light"
     },
     "output_type": "display_data"
    }
   ],
   "source": [
    "# 21 - Make a scatter plot with sample size on the x-axs and  mean difference on the y-axis\n",
    "# Observe as the sample size increases, the sample means converge to the population mean.\n",
    "# Make sure you make the plot large enough \n",
    "import matplotlib.pyplot as plt\n",
    "plt.scatter(sample_sizes,means_diff)"
   ]
  },
  {
   "cell_type": "code",
   "execution_count": 77,
   "metadata": {},
   "outputs": [
    {
     "data": {
      "text/plain": [
       "<matplotlib.collections.PathCollection at 0x7f9280f817d0>"
      ]
     },
     "execution_count": 77,
     "metadata": {},
     "output_type": "execute_result"
    },
    {
     "data": {
      "image/png": "[encoded data removed]",
      "text/plain": [
       "<Figure size 432x288 with 1 Axes>"
      ]
     },
     "metadata": {
      "needs_background": "light"
     },
     "output_type": "display_data"
    }
   ],
   "source": [
    "# 22 - repeat 18 to 21 by replacing 50 with a larger number. For example, 300, or even 1000.\n",
    "# and see how the plot looks.\n",
    "sample_sizes = [i for i in range(1,1001)]\n",
    "means_diff = calculateMeanDifference(sample_sizes,df)\n",
    "plt.scatter(sample_sizes,means_diff)"
   ]
  },
  {
   "cell_type": "code",
   "execution_count": 78,
   "metadata": {},
   "outputs": [],
   "source": [
    "# The end - Give yourself a pat on the back!"
   ]
  },
  {
   "cell_type": "code",
   "execution_count": null,
   "metadata": {},
   "outputs": [],
   "source": []
  }
 ],
 "metadata": {
  "kernelspec": {
   "display_name": "Python 3",
   "language": "python",
   "name": "python3"
  },
  "language_info": {
   "codemirror_mode": {
    "name": "ipython",
    "version": 3
   },
   "file_extension": ".py",
   "mimetype": "text/x-python",
   "name": "python",
   "nbconvert_exporter": "python",
   "pygments_lexer": "ipython3",
   "version": "3.7.4"
  }
 },
 "nbformat": 4,
 "nbformat_minor": 2
}
